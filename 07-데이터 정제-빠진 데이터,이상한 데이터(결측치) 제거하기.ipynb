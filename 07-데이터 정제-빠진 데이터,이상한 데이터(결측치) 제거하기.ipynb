{
 "cells": [
  {
   "cell_type": "markdown",
   "id": "f984908b-91a6-4439-92d4-ed9e220f92d6",
   "metadata": {
    "lines_to_next_cell": 0
   },
   "source": [
    "# 07 데이터 정제  - 빠진 데이터, 이상한 데이터 제거하기"
   ]
  },
  {
   "cell_type": "markdown",
   "id": "10c72434",
   "metadata": {},
   "source": [
    "## 파이썬 운영환경을 사전에 기본 점검하기"
   ]
  },
  {
   "cell_type": "code",
   "execution_count": 1,
   "id": "6f50aeff-fb60-4834-a9bc-7c650a16bd65",
   "metadata": {},
   "outputs": [],
   "source": [
    "# 그래프 해상도 설정\n",
    "import matplotlib.pyplot as plt\n",
    "plt.rcParams.update({'figure.dpi' : '100'})\n",
    "%config InlineBackend.figure_format = 'retina'"
   ]
  },
  {
   "cell_type": "markdown",
   "id": "edcd9873",
   "metadata": {},
   "source": [
    "### import os 명령을 통하여 os안에 있는 기본명령을 사용할 수가 있다.  \n",
    "- 기본 os 명령을 사용하려면 <font color='blue'>**import os**</font>명령을 사용한다.  \n",
    "- *os.* 상태에서 **<탭>키**를 쳐서 부속된 속성(attribute)을 확인할 수가 있다.   \n",
    "- **작업디렉토리변경(chdir), 작업디렉토리생성(mkdir)** 등 기본적인 작업이 가능하다.    \n",
    "- 파이썬은 디렉토리(폴더) 주소를 판별할 때에 \\은 \\\\로 나타내야 하고 /는 그냥 한개만 사용하면 된다.  \n",
    "  - 따라서 리눅스와 파일을 주고받아야 할 경우 경로를 /로 표시해 두는 것이 좋다.  "
   ]
  },
  {
   "cell_type": "code",
   "execution_count": 2,
   "id": "c9a4586e",
   "metadata": {},
   "outputs": [
    {
     "data": {
      "text/plain": [
       "'C:\\\\Users\\\\A\\\\python_Data'"
      ]
     },
     "execution_count": 2,
     "metadata": {},
     "output_type": "execute_result"
    }
   ],
   "source": [
    "import os   # OS 명령을 기본 사용하기 위한 라이브러리  \n",
    "\n",
    "os.getcwd()   # 내가 현재 어느 폴더에 위치해 있는 지를 표시  "
   ]
  },
  {
   "cell_type": "code",
   "execution_count": 3,
   "id": "8c7152f8",
   "metadata": {},
   "outputs": [
    {
     "data": {
      "text/plain": [
       "'C:\\\\Users\\\\A\\\\python_Data\\\\data'"
      ]
     },
     "execution_count": 3,
     "metadata": {},
     "output_type": "execute_result"
    }
   ],
   "source": [
    "os.chdir('../python_Data/data')   # 상대경로 이동 \n",
    "\n",
    "os.getcwd()           # 내가 현재 어느 폴더에 위치해 있는 지를 표시  "
   ]
  },
  {
   "cell_type": "markdown",
   "id": "a5256574",
   "metadata": {},
   "source": [
    "### 파이썬 기본 경고메세지 처리(무시 OR 기본값) 하기"
   ]
  },
  {
   "cell_type": "code",
   "execution_count": 4,
   "id": "b3353b5d",
   "metadata": {},
   "outputs": [],
   "source": [
    "import warnings     # 파이썬 기본적인 경고메세지 처리하기     \n",
    "\n",
    "warnings.filterwarnings(action='ignore')      # 기본적인 경고메세지 무시하기 \n",
    "# warnings.filterwarnings(action='default')    # 기본적인 경고메세지 기본값으로 표시하기   "
   ]
  },
  {
   "cell_type": "markdown",
   "id": "4dbfe8b9",
   "metadata": {},
   "source": [
    "### 이 책에서 사용하는 소프트웨어 버전 "
   ]
  },
  {
   "cell_type": "code",
   "execution_count": 5,
   "id": "a30d11a4",
   "metadata": {},
   "outputs": [
    {
     "name": "stdout",
     "output_type": "stream",
     "text": [
      "Python 버전: 3.11.5 | packaged by Anaconda, Inc. | (main, Sep 11 2023, 13:26:23) [MSC v.1916 64 bit (AMD64)]\n",
      "pandas 버전: 2.1.1\n",
      "matplotlib 버전: 3.7.2\n",
      "NumPy 버전: 1.24.3\n",
      "Seaborn 버전: 0.12.2\n",
      "scikit-learn 버전: 1.3.0\n"
     ]
    }
   ],
   "source": [
    "import sys\n",
    "print(\"Python 버전:\", sys.version)\n",
    "\n",
    "import pandas as pd\n",
    "print(\"pandas 버전:\", pd.__version__)\n",
    "\n",
    "import matplotlib\n",
    "print(\"matplotlib 버전:\", matplotlib.__version__)\n",
    "\n",
    "import numpy as np\n",
    "print(\"NumPy 버전:\", np.__version__) \n",
    "\n",
    "import seaborn as sns  \n",
    "print(\"Seaborn 버전:\", sns.__version__) \n",
    "\n",
    "import sklearn as skl \n",
    "print(\"scikit-learn 버전:\", skl.__version__)"
   ]
  },
  {
   "cell_type": "markdown",
   "id": "c0315059-546c-45a8-aec3-8453edf383ed",
   "metadata": {
    "lines_to_next_cell": 0
   },
   "source": [
    "## 07-1 빠진 데이터를 찾아라! - 결측치 정제하기"
   ]
  },
  {
   "cell_type": "markdown",
   "id": "025dca4b-aaf2-4ce9-b305-022b8306caee",
   "metadata": {
    "lines_to_next_cell": 0
   },
   "source": [
    "### 결측치 찾기\n",
    " - 누락된 값, 비어 있는 값 \n",
    "\n",
    "#### 결측치 만들기"
   ]
  },
  {
   "cell_type": "code",
   "execution_count": 18,
   "id": "71f69e91",
   "metadata": {
    "lines_to_next_cell": 0
   },
   "outputs": [
    {
     "data": {
      "text/html": [
       "<div>\n",
       "<style scoped>\n",
       "    .dataframe tbody tr th:only-of-type {\n",
       "        vertical-align: middle;\n",
       "    }\n",
       "\n",
       "    .dataframe tbody tr th {\n",
       "        vertical-align: top;\n",
       "    }\n",
       "\n",
       "    .dataframe thead th {\n",
       "        text-align: right;\n",
       "    }\n",
       "</style>\n",
       "<table border=\"1\" class=\"dataframe\">\n",
       "  <thead>\n",
       "    <tr style=\"text-align: right;\">\n",
       "      <th></th>\n",
       "      <th>sex</th>\n",
       "      <th>score</th>\n",
       "      <th>name</th>\n",
       "    </tr>\n",
       "  </thead>\n",
       "  <tbody>\n",
       "    <tr>\n",
       "      <th>0</th>\n",
       "      <td>M</td>\n",
       "      <td>5.0</td>\n",
       "      <td>hong</td>\n",
       "    </tr>\n",
       "    <tr>\n",
       "      <th>1</th>\n",
       "      <td>F</td>\n",
       "      <td>4.0</td>\n",
       "      <td>NaN</td>\n",
       "    </tr>\n",
       "    <tr>\n",
       "      <th>2</th>\n",
       "      <td>NaN</td>\n",
       "      <td>3.0</td>\n",
       "      <td>kim</td>\n",
       "    </tr>\n",
       "    <tr>\n",
       "      <th>3</th>\n",
       "      <td>M</td>\n",
       "      <td>4.0</td>\n",
       "      <td>lee</td>\n",
       "    </tr>\n",
       "    <tr>\n",
       "      <th>4</th>\n",
       "      <td>F</td>\n",
       "      <td>NaN</td>\n",
       "      <td>hyun</td>\n",
       "    </tr>\n",
       "  </tbody>\n",
       "</table>\n",
       "</div>"
      ],
      "text/plain": [
       "   sex  score  name\n",
       "0    M    5.0  hong\n",
       "1    F    4.0   NaN\n",
       "2  NaN    3.0   kim\n",
       "3    M    4.0   lee\n",
       "4    F    NaN  hyun"
      ]
     },
     "execution_count": 18,
     "metadata": {},
     "output_type": "execute_result"
    }
   ],
   "source": [
    "import pandas as pd\n",
    "import numpy as np\n",
    "\n",
    "df = pd.DataFrame({'sex'   : ['M', 'F', np.nan, 'M', 'F'],\n",
    "                   'score' : [5, 4, 3, 4, np.nan],\n",
    "                   'name'  : ['hong', np.nan, 'kim', 'lee', 'hyun']})\n",
    "df"
   ]
  },
  {
   "cell_type": "code",
   "execution_count": 19,
   "id": "c9fce7c4",
   "metadata": {
    "lines_to_next_cell": 0
   },
   "outputs": [
    {
     "data": {
      "text/plain": [
       "0    105.0\n",
       "1    104.0\n",
       "2    103.0\n",
       "3    104.0\n",
       "4      NaN\n",
       "Name: score, dtype: float64"
      ]
     },
     "execution_count": 19,
     "metadata": {},
     "output_type": "execute_result"
    }
   ],
   "source": [
    "df['score'] + 100"
   ]
  },
  {
   "cell_type": "markdown",
   "id": "ff674c25",
   "metadata": {
    "lines_to_next_cell": 0
   },
   "source": [
    "#### 결측치 확인하기"
   ]
  },
  {
   "cell_type": "code",
   "execution_count": 20,
   "id": "7a223d87",
   "metadata": {
    "lines_to_next_cell": 0
   },
   "outputs": [
    {
     "data": {
      "text/html": [
       "<div>\n",
       "<style scoped>\n",
       "    .dataframe tbody tr th:only-of-type {\n",
       "        vertical-align: middle;\n",
       "    }\n",
       "\n",
       "    .dataframe tbody tr th {\n",
       "        vertical-align: top;\n",
       "    }\n",
       "\n",
       "    .dataframe thead th {\n",
       "        text-align: right;\n",
       "    }\n",
       "</style>\n",
       "<table border=\"1\" class=\"dataframe\">\n",
       "  <thead>\n",
       "    <tr style=\"text-align: right;\">\n",
       "      <th></th>\n",
       "      <th>sex</th>\n",
       "      <th>score</th>\n",
       "      <th>name</th>\n",
       "    </tr>\n",
       "  </thead>\n",
       "  <tbody>\n",
       "    <tr>\n",
       "      <th>0</th>\n",
       "      <td>False</td>\n",
       "      <td>False</td>\n",
       "      <td>False</td>\n",
       "    </tr>\n",
       "    <tr>\n",
       "      <th>1</th>\n",
       "      <td>False</td>\n",
       "      <td>False</td>\n",
       "      <td>True</td>\n",
       "    </tr>\n",
       "    <tr>\n",
       "      <th>2</th>\n",
       "      <td>True</td>\n",
       "      <td>False</td>\n",
       "      <td>False</td>\n",
       "    </tr>\n",
       "    <tr>\n",
       "      <th>3</th>\n",
       "      <td>False</td>\n",
       "      <td>False</td>\n",
       "      <td>False</td>\n",
       "    </tr>\n",
       "    <tr>\n",
       "      <th>4</th>\n",
       "      <td>False</td>\n",
       "      <td>True</td>\n",
       "      <td>False</td>\n",
       "    </tr>\n",
       "  </tbody>\n",
       "</table>\n",
       "</div>"
      ],
      "text/plain": [
       "     sex  score   name\n",
       "0  False  False  False\n",
       "1  False  False   True\n",
       "2   True  False  False\n",
       "3  False  False  False\n",
       "4  False   True  False"
      ]
     },
     "execution_count": 20,
     "metadata": {},
     "output_type": "execute_result"
    }
   ],
   "source": [
    "# 데이터중 기본 결측치 여부를 확인한다.   \n",
    "# 해당 값이 결측치인 경우는 True, 결측치가 아닌 경우에는 False로 표시된다.  \n",
    "\n",
    "pd.isna(df)  # 결측치 확인"
   ]
  },
  {
   "cell_type": "code",
   "execution_count": 21,
   "id": "8c94d86b",
   "metadata": {
    "lines_to_next_cell": 0
   },
   "outputs": [
    {
     "data": {
      "text/plain": [
       "sex      1\n",
       "score    1\n",
       "name     1\n",
       "dtype: int64"
      ]
     },
     "execution_count": 21,
     "metadata": {},
     "output_type": "execute_result"
    }
   ],
   "source": [
    "# 주어진 데이터 중에서 결측치가 있는 건수를 확인한다.   \n",
    "\n",
    "pd.isna(df).sum()  # 결측치 빈도 확인"
   ]
  },
  {
   "cell_type": "markdown",
   "id": "f9424f95",
   "metadata": {
    "lines_to_next_cell": 0
   },
   "source": [
    "### 결측치 제거하기\n",
    "#### 결측치 있는 행 제거하기"
   ]
  },
  {
   "cell_type": "code",
   "execution_count": 22,
   "id": "e3e92068",
   "metadata": {},
   "outputs": [
    {
     "data": {
      "text/html": [
       "<div>\n",
       "<style scoped>\n",
       "    .dataframe tbody tr th:only-of-type {\n",
       "        vertical-align: middle;\n",
       "    }\n",
       "\n",
       "    .dataframe tbody tr th {\n",
       "        vertical-align: top;\n",
       "    }\n",
       "\n",
       "    .dataframe thead th {\n",
       "        text-align: right;\n",
       "    }\n",
       "</style>\n",
       "<table border=\"1\" class=\"dataframe\">\n",
       "  <thead>\n",
       "    <tr style=\"text-align: right;\">\n",
       "      <th></th>\n",
       "      <th>sex</th>\n",
       "      <th>score</th>\n",
       "      <th>name</th>\n",
       "    </tr>\n",
       "  </thead>\n",
       "  <tbody>\n",
       "    <tr>\n",
       "      <th>0</th>\n",
       "      <td>M</td>\n",
       "      <td>5.0</td>\n",
       "      <td>hong</td>\n",
       "    </tr>\n",
       "    <tr>\n",
       "      <th>1</th>\n",
       "      <td>F</td>\n",
       "      <td>4.0</td>\n",
       "      <td>NaN</td>\n",
       "    </tr>\n",
       "    <tr>\n",
       "      <th>2</th>\n",
       "      <td>NaN</td>\n",
       "      <td>3.0</td>\n",
       "      <td>kim</td>\n",
       "    </tr>\n",
       "    <tr>\n",
       "      <th>3</th>\n",
       "      <td>M</td>\n",
       "      <td>4.0</td>\n",
       "      <td>lee</td>\n",
       "    </tr>\n",
       "    <tr>\n",
       "      <th>4</th>\n",
       "      <td>F</td>\n",
       "      <td>NaN</td>\n",
       "      <td>hyun</td>\n",
       "    </tr>\n",
       "  </tbody>\n",
       "</table>\n",
       "</div>"
      ],
      "text/plain": [
       "   sex  score  name\n",
       "0    M    5.0  hong\n",
       "1    F    4.0   NaN\n",
       "2  NaN    3.0   kim\n",
       "3    M    4.0   lee\n",
       "4    F    NaN  hyun"
      ]
     },
     "execution_count": 22,
     "metadata": {},
     "output_type": "execute_result"
    }
   ],
   "source": [
    "# 원시 데이터(source) \n",
    "df"
   ]
  },
  {
   "cell_type": "code",
   "execution_count": 14,
   "id": "f89aa499",
   "metadata": {
    "lines_to_next_cell": 0
   },
   "outputs": [],
   "source": [
    "# 원시 데이터(source) 중 score 컬럼에 결측치가 있는 부분을 제거 \n",
    "\n",
    "df.dropna(subset = ['score'])  # score 결측치 제거"
   ]
  },
  {
   "cell_type": "code",
   "execution_count": 23,
   "id": "4d486390",
   "metadata": {
    "lines_to_next_cell": 0
   },
   "outputs": [
    {
     "data": {
      "text/plain": [
       "0    6.0\n",
       "1    5.0\n",
       "2    4.0\n",
       "3    5.0\n",
       "Name: score, dtype: float64"
      ]
     },
     "execution_count": 23,
     "metadata": {},
     "output_type": "execute_result"
    }
   ],
   "source": [
    "# 원시 데이터(source) 중 score 컬럼에 결측치가 있는 부분을 제거 \n",
    "# 제거된 결과물 -> df_nomiss \n",
    "\n",
    "df_nomiss = df.dropna(subset = ['score'])  # score 결측치 제거된 데이터 만들기\n",
    "df_nomiss['score'] + 1                     # score로 연산"
   ]
  },
  {
   "cell_type": "markdown",
   "id": "275bbc06",
   "metadata": {
    "lines_to_next_cell": 0
   },
   "source": [
    "#### 여러 변수에 결측치 없는 데이터 추출하기"
   ]
  },
  {
   "cell_type": "code",
   "execution_count": 24,
   "id": "1c7f493e",
   "metadata": {
    "lines_to_next_cell": 0
   },
   "outputs": [
    {
     "data": {
      "text/html": [
       "<div>\n",
       "<style scoped>\n",
       "    .dataframe tbody tr th:only-of-type {\n",
       "        vertical-align: middle;\n",
       "    }\n",
       "\n",
       "    .dataframe tbody tr th {\n",
       "        vertical-align: top;\n",
       "    }\n",
       "\n",
       "    .dataframe thead th {\n",
       "        text-align: right;\n",
       "    }\n",
       "</style>\n",
       "<table border=\"1\" class=\"dataframe\">\n",
       "  <thead>\n",
       "    <tr style=\"text-align: right;\">\n",
       "      <th></th>\n",
       "      <th>sex</th>\n",
       "      <th>score</th>\n",
       "      <th>name</th>\n",
       "    </tr>\n",
       "  </thead>\n",
       "  <tbody>\n",
       "    <tr>\n",
       "      <th>0</th>\n",
       "      <td>M</td>\n",
       "      <td>5.0</td>\n",
       "      <td>hong</td>\n",
       "    </tr>\n",
       "    <tr>\n",
       "      <th>3</th>\n",
       "      <td>M</td>\n",
       "      <td>4.0</td>\n",
       "      <td>lee</td>\n",
       "    </tr>\n",
       "  </tbody>\n",
       "</table>\n",
       "</div>"
      ],
      "text/plain": [
       "  sex  score  name\n",
       "0   M    5.0  hong\n",
       "3   M    4.0   lee"
      ]
     },
     "execution_count": 24,
     "metadata": {},
     "output_type": "execute_result"
    }
   ],
   "source": [
    "df_nomiss = df.dropna(subset = ['score', 'sex', 'name'])  # score, sex 결측치 제거\n",
    "df_nomiss"
   ]
  },
  {
   "cell_type": "markdown",
   "id": "4551d8a1",
   "metadata": {
    "lines_to_next_cell": 0
   },
   "source": [
    "#### 결측치가 하나라도 있으면 제거하기 \n",
    "- 위의 셀과 결과값이 서로 같음을 확인할 수가 있다.  "
   ]
  },
  {
   "cell_type": "code",
   "execution_count": 25,
   "id": "792d1ac7",
   "metadata": {
    "lines_to_next_cell": 0
   },
   "outputs": [
    {
     "data": {
      "text/html": [
       "<div>\n",
       "<style scoped>\n",
       "    .dataframe tbody tr th:only-of-type {\n",
       "        vertical-align: middle;\n",
       "    }\n",
       "\n",
       "    .dataframe tbody tr th {\n",
       "        vertical-align: top;\n",
       "    }\n",
       "\n",
       "    .dataframe thead th {\n",
       "        text-align: right;\n",
       "    }\n",
       "</style>\n",
       "<table border=\"1\" class=\"dataframe\">\n",
       "  <thead>\n",
       "    <tr style=\"text-align: right;\">\n",
       "      <th></th>\n",
       "      <th>sex</th>\n",
       "      <th>score</th>\n",
       "      <th>name</th>\n",
       "    </tr>\n",
       "  </thead>\n",
       "  <tbody>\n",
       "    <tr>\n",
       "      <th>0</th>\n",
       "      <td>M</td>\n",
       "      <td>5.0</td>\n",
       "      <td>hong</td>\n",
       "    </tr>\n",
       "    <tr>\n",
       "      <th>3</th>\n",
       "      <td>M</td>\n",
       "      <td>4.0</td>\n",
       "      <td>lee</td>\n",
       "    </tr>\n",
       "  </tbody>\n",
       "</table>\n",
       "</div>"
      ],
      "text/plain": [
       "  sex  score  name\n",
       "0   M    5.0  hong\n",
       "3   M    4.0   lee"
      ]
     },
     "execution_count": 25,
     "metadata": {},
     "output_type": "execute_result"
    }
   ],
   "source": [
    "df_nomiss2 = df.dropna()  # 모든 변수에 결측치 없는 데이터 추출\n",
    "df_nomiss2"
   ]
  },
  {
   "cell_type": "markdown",
   "id": "4d0f9dba",
   "metadata": {
    "lines_to_next_cell": 0
   },
   "source": [
    "------------------------------------------------------------------------\n",
    "#### (알아 두면 좋아요) 결측치 제거하지 않고 분석하기"
   ]
  },
  {
   "cell_type": "code",
   "execution_count": 26,
   "id": "159a2aaf",
   "metadata": {
    "lines_to_next_cell": 0
   },
   "outputs": [
    {
     "data": {
      "text/plain": [
       "4.0"
      ]
     },
     "execution_count": 26,
     "metadata": {},
     "output_type": "execute_result"
    }
   ],
   "source": [
    "df['score'].mean()"
   ]
  },
  {
   "cell_type": "code",
   "execution_count": 27,
   "id": "ab4929d6",
   "metadata": {
    "lines_to_next_cell": 0
   },
   "outputs": [
    {
     "data": {
      "text/plain": [
       "16.0"
      ]
     },
     "execution_count": 27,
     "metadata": {},
     "output_type": "execute_result"
    }
   ],
   "source": [
    "df['score'].sum()"
   ]
  },
  {
   "cell_type": "code",
   "execution_count": 28,
   "id": "4d64ad56",
   "metadata": {
    "lines_to_next_cell": 0
   },
   "outputs": [
    {
     "data": {
      "text/html": [
       "<div>\n",
       "<style scoped>\n",
       "    .dataframe tbody tr th:only-of-type {\n",
       "        vertical-align: middle;\n",
       "    }\n",
       "\n",
       "    .dataframe tbody tr th {\n",
       "        vertical-align: top;\n",
       "    }\n",
       "\n",
       "    .dataframe thead th {\n",
       "        text-align: right;\n",
       "    }\n",
       "</style>\n",
       "<table border=\"1\" class=\"dataframe\">\n",
       "  <thead>\n",
       "    <tr style=\"text-align: right;\">\n",
       "      <th></th>\n",
       "      <th>mean_score</th>\n",
       "      <th>sum_score</th>\n",
       "    </tr>\n",
       "    <tr>\n",
       "      <th>sex</th>\n",
       "      <th></th>\n",
       "      <th></th>\n",
       "    </tr>\n",
       "  </thead>\n",
       "  <tbody>\n",
       "    <tr>\n",
       "      <th>F</th>\n",
       "      <td>4.0</td>\n",
       "      <td>4.0</td>\n",
       "    </tr>\n",
       "    <tr>\n",
       "      <th>M</th>\n",
       "      <td>4.5</td>\n",
       "      <td>9.0</td>\n",
       "    </tr>\n",
       "  </tbody>\n",
       "</table>\n",
       "</div>"
      ],
      "text/plain": [
       "     mean_score  sum_score\n",
       "sex                       \n",
       "F           4.0        4.0\n",
       "M           4.5        9.0"
      ]
     },
     "execution_count": 28,
     "metadata": {},
     "output_type": "execute_result"
    }
   ],
   "source": [
    "df.groupby('sex').agg(mean_score = ('score', 'mean'),\n",
    "                      sum_score  = ('score', 'sum'))"
   ]
  },
  {
   "cell_type": "markdown",
   "id": "07f707d2",
   "metadata": {
    "lines_to_next_cell": 0
   },
   "source": [
    "------------------------------------------------------------------------\n",
    "### 결측치 대체하기\n",
    "#### 평균값으로 결측치 대체하기"
   ]
  },
  {
   "cell_type": "code",
   "execution_count": 30,
   "id": "da046847",
   "metadata": {},
   "outputs": [
    {
     "data": {
      "text/html": [
       "<div>\n",
       "<style scoped>\n",
       "    .dataframe tbody tr th:only-of-type {\n",
       "        vertical-align: middle;\n",
       "    }\n",
       "\n",
       "    .dataframe tbody tr th {\n",
       "        vertical-align: top;\n",
       "    }\n",
       "\n",
       "    .dataframe thead th {\n",
       "        text-align: right;\n",
       "    }\n",
       "</style>\n",
       "<table border=\"1\" class=\"dataframe\">\n",
       "  <thead>\n",
       "    <tr style=\"text-align: right;\">\n",
       "      <th></th>\n",
       "      <th>id</th>\n",
       "      <th>nclass</th>\n",
       "      <th>math</th>\n",
       "      <th>english</th>\n",
       "      <th>science</th>\n",
       "    </tr>\n",
       "  </thead>\n",
       "  <tbody>\n",
       "    <tr>\n",
       "      <th>0</th>\n",
       "      <td>1</td>\n",
       "      <td>1</td>\n",
       "      <td>50</td>\n",
       "      <td>98</td>\n",
       "      <td>50</td>\n",
       "    </tr>\n",
       "    <tr>\n",
       "      <th>1</th>\n",
       "      <td>2</td>\n",
       "      <td>1</td>\n",
       "      <td>60</td>\n",
       "      <td>97</td>\n",
       "      <td>60</td>\n",
       "    </tr>\n",
       "    <tr>\n",
       "      <th>2</th>\n",
       "      <td>3</td>\n",
       "      <td>1</td>\n",
       "      <td>45</td>\n",
       "      <td>86</td>\n",
       "      <td>78</td>\n",
       "    </tr>\n",
       "    <tr>\n",
       "      <th>3</th>\n",
       "      <td>4</td>\n",
       "      <td>1</td>\n",
       "      <td>30</td>\n",
       "      <td>98</td>\n",
       "      <td>58</td>\n",
       "    </tr>\n",
       "    <tr>\n",
       "      <th>4</th>\n",
       "      <td>5</td>\n",
       "      <td>2</td>\n",
       "      <td>25</td>\n",
       "      <td>80</td>\n",
       "      <td>65</td>\n",
       "    </tr>\n",
       "    <tr>\n",
       "      <th>5</th>\n",
       "      <td>6</td>\n",
       "      <td>2</td>\n",
       "      <td>50</td>\n",
       "      <td>89</td>\n",
       "      <td>98</td>\n",
       "    </tr>\n",
       "    <tr>\n",
       "      <th>6</th>\n",
       "      <td>7</td>\n",
       "      <td>2</td>\n",
       "      <td>80</td>\n",
       "      <td>90</td>\n",
       "      <td>45</td>\n",
       "    </tr>\n",
       "    <tr>\n",
       "      <th>7</th>\n",
       "      <td>8</td>\n",
       "      <td>2</td>\n",
       "      <td>90</td>\n",
       "      <td>78</td>\n",
       "      <td>25</td>\n",
       "    </tr>\n",
       "    <tr>\n",
       "      <th>8</th>\n",
       "      <td>9</td>\n",
       "      <td>3</td>\n",
       "      <td>20</td>\n",
       "      <td>98</td>\n",
       "      <td>15</td>\n",
       "    </tr>\n",
       "    <tr>\n",
       "      <th>9</th>\n",
       "      <td>10</td>\n",
       "      <td>3</td>\n",
       "      <td>50</td>\n",
       "      <td>98</td>\n",
       "      <td>45</td>\n",
       "    </tr>\n",
       "  </tbody>\n",
       "</table>\n",
       "</div>"
      ],
      "text/plain": [
       "   id  nclass  math  english  science\n",
       "0   1       1    50       98       50\n",
       "1   2       1    60       97       60\n",
       "2   3       1    45       86       78\n",
       "3   4       1    30       98       58\n",
       "4   5       2    25       80       65\n",
       "5   6       2    50       89       98\n",
       "6   7       2    80       90       45\n",
       "7   8       2    90       78       25\n",
       "8   9       3    20       98       15\n",
       "9  10       3    50       98       45"
      ]
     },
     "execution_count": 30,
     "metadata": {},
     "output_type": "execute_result"
    }
   ],
   "source": [
    "exam = pd.read_csv('../data/exam.csv')           # 데이터 불러오기\n",
    "exam.head(10)"
   ]
  },
  {
   "cell_type": "code",
   "execution_count": 35,
   "id": "703a2c41",
   "metadata": {
    "eval": false,
    "lines_to_next_cell": 0
   },
   "outputs": [
    {
     "data": {
      "text/html": [
       "<div>\n",
       "<style scoped>\n",
       "    .dataframe tbody tr th:only-of-type {\n",
       "        vertical-align: middle;\n",
       "    }\n",
       "\n",
       "    .dataframe tbody tr th {\n",
       "        vertical-align: top;\n",
       "    }\n",
       "\n",
       "    .dataframe thead th {\n",
       "        text-align: right;\n",
       "    }\n",
       "</style>\n",
       "<table border=\"1\" class=\"dataframe\">\n",
       "  <thead>\n",
       "    <tr style=\"text-align: right;\">\n",
       "      <th></th>\n",
       "      <th>id</th>\n",
       "      <th>nclass</th>\n",
       "      <th>math</th>\n",
       "      <th>english</th>\n",
       "      <th>science</th>\n",
       "    </tr>\n",
       "  </thead>\n",
       "  <tbody>\n",
       "    <tr>\n",
       "      <th>0</th>\n",
       "      <td>1</td>\n",
       "      <td>1</td>\n",
       "      <td>50.0</td>\n",
       "      <td>98</td>\n",
       "      <td>50</td>\n",
       "    </tr>\n",
       "    <tr>\n",
       "      <th>1</th>\n",
       "      <td>2</td>\n",
       "      <td>1</td>\n",
       "      <td>60.0</td>\n",
       "      <td>97</td>\n",
       "      <td>60</td>\n",
       "    </tr>\n",
       "    <tr>\n",
       "      <th>2</th>\n",
       "      <td>3</td>\n",
       "      <td>1</td>\n",
       "      <td>NaN</td>\n",
       "      <td>86</td>\n",
       "      <td>78</td>\n",
       "    </tr>\n",
       "    <tr>\n",
       "      <th>3</th>\n",
       "      <td>4</td>\n",
       "      <td>1</td>\n",
       "      <td>30.0</td>\n",
       "      <td>98</td>\n",
       "      <td>58</td>\n",
       "    </tr>\n",
       "    <tr>\n",
       "      <th>4</th>\n",
       "      <td>5</td>\n",
       "      <td>2</td>\n",
       "      <td>25.0</td>\n",
       "      <td>80</td>\n",
       "      <td>65</td>\n",
       "    </tr>\n",
       "    <tr>\n",
       "      <th>5</th>\n",
       "      <td>6</td>\n",
       "      <td>2</td>\n",
       "      <td>50.0</td>\n",
       "      <td>89</td>\n",
       "      <td>98</td>\n",
       "    </tr>\n",
       "    <tr>\n",
       "      <th>6</th>\n",
       "      <td>7</td>\n",
       "      <td>2</td>\n",
       "      <td>80.0</td>\n",
       "      <td>90</td>\n",
       "      <td>45</td>\n",
       "    </tr>\n",
       "    <tr>\n",
       "      <th>7</th>\n",
       "      <td>8</td>\n",
       "      <td>2</td>\n",
       "      <td>NaN</td>\n",
       "      <td>78</td>\n",
       "      <td>25</td>\n",
       "    </tr>\n",
       "    <tr>\n",
       "      <th>8</th>\n",
       "      <td>9</td>\n",
       "      <td>3</td>\n",
       "      <td>20.0</td>\n",
       "      <td>98</td>\n",
       "      <td>15</td>\n",
       "    </tr>\n",
       "    <tr>\n",
       "      <th>9</th>\n",
       "      <td>10</td>\n",
       "      <td>3</td>\n",
       "      <td>50.0</td>\n",
       "      <td>98</td>\n",
       "      <td>45</td>\n",
       "    </tr>\n",
       "    <tr>\n",
       "      <th>10</th>\n",
       "      <td>11</td>\n",
       "      <td>3</td>\n",
       "      <td>65.0</td>\n",
       "      <td>65</td>\n",
       "      <td>65</td>\n",
       "    </tr>\n",
       "    <tr>\n",
       "      <th>11</th>\n",
       "      <td>12</td>\n",
       "      <td>3</td>\n",
       "      <td>45.0</td>\n",
       "      <td>85</td>\n",
       "      <td>32</td>\n",
       "    </tr>\n",
       "    <tr>\n",
       "      <th>12</th>\n",
       "      <td>13</td>\n",
       "      <td>4</td>\n",
       "      <td>46.0</td>\n",
       "      <td>98</td>\n",
       "      <td>65</td>\n",
       "    </tr>\n",
       "    <tr>\n",
       "      <th>13</th>\n",
       "      <td>14</td>\n",
       "      <td>4</td>\n",
       "      <td>48.0</td>\n",
       "      <td>87</td>\n",
       "      <td>12</td>\n",
       "    </tr>\n",
       "    <tr>\n",
       "      <th>14</th>\n",
       "      <td>15</td>\n",
       "      <td>4</td>\n",
       "      <td>NaN</td>\n",
       "      <td>56</td>\n",
       "      <td>78</td>\n",
       "    </tr>\n",
       "    <tr>\n",
       "      <th>15</th>\n",
       "      <td>16</td>\n",
       "      <td>4</td>\n",
       "      <td>58.0</td>\n",
       "      <td>98</td>\n",
       "      <td>65</td>\n",
       "    </tr>\n",
       "    <tr>\n",
       "      <th>16</th>\n",
       "      <td>17</td>\n",
       "      <td>5</td>\n",
       "      <td>65.0</td>\n",
       "      <td>68</td>\n",
       "      <td>98</td>\n",
       "    </tr>\n",
       "    <tr>\n",
       "      <th>17</th>\n",
       "      <td>18</td>\n",
       "      <td>5</td>\n",
       "      <td>80.0</td>\n",
       "      <td>78</td>\n",
       "      <td>90</td>\n",
       "    </tr>\n",
       "    <tr>\n",
       "      <th>18</th>\n",
       "      <td>19</td>\n",
       "      <td>5</td>\n",
       "      <td>89.0</td>\n",
       "      <td>68</td>\n",
       "      <td>87</td>\n",
       "    </tr>\n",
       "    <tr>\n",
       "      <th>19</th>\n",
       "      <td>20</td>\n",
       "      <td>5</td>\n",
       "      <td>78.0</td>\n",
       "      <td>83</td>\n",
       "      <td>58</td>\n",
       "    </tr>\n",
       "  </tbody>\n",
       "</table>\n",
       "</div>"
      ],
      "text/plain": [
       "    id  nclass  math  english  science\n",
       "0    1       1  50.0       98       50\n",
       "1    2       1  60.0       97       60\n",
       "2    3       1   NaN       86       78\n",
       "3    4       1  30.0       98       58\n",
       "4    5       2  25.0       80       65\n",
       "5    6       2  50.0       89       98\n",
       "6    7       2  80.0       90       45\n",
       "7    8       2   NaN       78       25\n",
       "8    9       3  20.0       98       15\n",
       "9   10       3  50.0       98       45\n",
       "10  11       3  65.0       65       65\n",
       "11  12       3  45.0       85       32\n",
       "12  13       4  46.0       98       65\n",
       "13  14       4  48.0       87       12\n",
       "14  15       4   NaN       56       78\n",
       "15  16       4  58.0       98       65\n",
       "16  17       5  65.0       68       98\n",
       "17  18       5  80.0       78       90\n",
       "18  19       5  89.0       68       87\n",
       "19  20       5  78.0       83       58"
      ]
     },
     "execution_count": 35,
     "metadata": {},
     "output_type": "execute_result"
    }
   ],
   "source": [
    "# 가져온 데이터중에 math에 2,7,14행의 값에 결측치를 할당 \n",
    "exam.loc[[2, 7, 14], ['math']] = np.nan          # 2, 7, 14행의 math에 NaN 할당\n",
    "exam"
   ]
  },
  {
   "cell_type": "code",
   "execution_count": 36,
   "id": "4a399b88",
   "metadata": {},
   "outputs": [
    {
     "data": {
      "text/plain": [
       "3"
      ]
     },
     "execution_count": 36,
     "metadata": {},
     "output_type": "execute_result"
    }
   ],
   "source": [
    "exam['math'].isna().sum()  # 결측치 빈도 확인"
   ]
  },
  {
   "cell_type": "code",
   "execution_count": 37,
   "id": "7559cf55",
   "metadata": {
    "lines_to_next_cell": 0
   },
   "outputs": [
    {
     "data": {
      "text/plain": [
       "55.23529411764706"
      ]
     },
     "execution_count": 37,
     "metadata": {},
     "output_type": "execute_result"
    }
   ],
   "source": [
    "exam['math'].mean()"
   ]
  },
  {
   "cell_type": "code",
   "execution_count": 38,
   "id": "6cb03179",
   "metadata": {
    "lines_to_next_cell": 0
   },
   "outputs": [
    {
     "data": {
      "text/html": [
       "<div>\n",
       "<style scoped>\n",
       "    .dataframe tbody tr th:only-of-type {\n",
       "        vertical-align: middle;\n",
       "    }\n",
       "\n",
       "    .dataframe tbody tr th {\n",
       "        vertical-align: top;\n",
       "    }\n",
       "\n",
       "    .dataframe thead th {\n",
       "        text-align: right;\n",
       "    }\n",
       "</style>\n",
       "<table border=\"1\" class=\"dataframe\">\n",
       "  <thead>\n",
       "    <tr style=\"text-align: right;\">\n",
       "      <th></th>\n",
       "      <th>id</th>\n",
       "      <th>nclass</th>\n",
       "      <th>math</th>\n",
       "      <th>english</th>\n",
       "      <th>science</th>\n",
       "    </tr>\n",
       "  </thead>\n",
       "  <tbody>\n",
       "    <tr>\n",
       "      <th>0</th>\n",
       "      <td>1</td>\n",
       "      <td>1</td>\n",
       "      <td>50.0</td>\n",
       "      <td>98</td>\n",
       "      <td>50</td>\n",
       "    </tr>\n",
       "    <tr>\n",
       "      <th>1</th>\n",
       "      <td>2</td>\n",
       "      <td>1</td>\n",
       "      <td>60.0</td>\n",
       "      <td>97</td>\n",
       "      <td>60</td>\n",
       "    </tr>\n",
       "    <tr>\n",
       "      <th>2</th>\n",
       "      <td>3</td>\n",
       "      <td>1</td>\n",
       "      <td>55.0</td>\n",
       "      <td>86</td>\n",
       "      <td>78</td>\n",
       "    </tr>\n",
       "    <tr>\n",
       "      <th>3</th>\n",
       "      <td>4</td>\n",
       "      <td>1</td>\n",
       "      <td>30.0</td>\n",
       "      <td>98</td>\n",
       "      <td>58</td>\n",
       "    </tr>\n",
       "    <tr>\n",
       "      <th>4</th>\n",
       "      <td>5</td>\n",
       "      <td>2</td>\n",
       "      <td>25.0</td>\n",
       "      <td>80</td>\n",
       "      <td>65</td>\n",
       "    </tr>\n",
       "    <tr>\n",
       "      <th>5</th>\n",
       "      <td>6</td>\n",
       "      <td>2</td>\n",
       "      <td>50.0</td>\n",
       "      <td>89</td>\n",
       "      <td>98</td>\n",
       "    </tr>\n",
       "    <tr>\n",
       "      <th>6</th>\n",
       "      <td>7</td>\n",
       "      <td>2</td>\n",
       "      <td>80.0</td>\n",
       "      <td>90</td>\n",
       "      <td>45</td>\n",
       "    </tr>\n",
       "    <tr>\n",
       "      <th>7</th>\n",
       "      <td>8</td>\n",
       "      <td>2</td>\n",
       "      <td>55.0</td>\n",
       "      <td>78</td>\n",
       "      <td>25</td>\n",
       "    </tr>\n",
       "    <tr>\n",
       "      <th>8</th>\n",
       "      <td>9</td>\n",
       "      <td>3</td>\n",
       "      <td>20.0</td>\n",
       "      <td>98</td>\n",
       "      <td>15</td>\n",
       "    </tr>\n",
       "    <tr>\n",
       "      <th>9</th>\n",
       "      <td>10</td>\n",
       "      <td>3</td>\n",
       "      <td>50.0</td>\n",
       "      <td>98</td>\n",
       "      <td>45</td>\n",
       "    </tr>\n",
       "    <tr>\n",
       "      <th>10</th>\n",
       "      <td>11</td>\n",
       "      <td>3</td>\n",
       "      <td>65.0</td>\n",
       "      <td>65</td>\n",
       "      <td>65</td>\n",
       "    </tr>\n",
       "    <tr>\n",
       "      <th>11</th>\n",
       "      <td>12</td>\n",
       "      <td>3</td>\n",
       "      <td>45.0</td>\n",
       "      <td>85</td>\n",
       "      <td>32</td>\n",
       "    </tr>\n",
       "    <tr>\n",
       "      <th>12</th>\n",
       "      <td>13</td>\n",
       "      <td>4</td>\n",
       "      <td>46.0</td>\n",
       "      <td>98</td>\n",
       "      <td>65</td>\n",
       "    </tr>\n",
       "    <tr>\n",
       "      <th>13</th>\n",
       "      <td>14</td>\n",
       "      <td>4</td>\n",
       "      <td>48.0</td>\n",
       "      <td>87</td>\n",
       "      <td>12</td>\n",
       "    </tr>\n",
       "    <tr>\n",
       "      <th>14</th>\n",
       "      <td>15</td>\n",
       "      <td>4</td>\n",
       "      <td>55.0</td>\n",
       "      <td>56</td>\n",
       "      <td>78</td>\n",
       "    </tr>\n",
       "    <tr>\n",
       "      <th>15</th>\n",
       "      <td>16</td>\n",
       "      <td>4</td>\n",
       "      <td>58.0</td>\n",
       "      <td>98</td>\n",
       "      <td>65</td>\n",
       "    </tr>\n",
       "    <tr>\n",
       "      <th>16</th>\n",
       "      <td>17</td>\n",
       "      <td>5</td>\n",
       "      <td>65.0</td>\n",
       "      <td>68</td>\n",
       "      <td>98</td>\n",
       "    </tr>\n",
       "    <tr>\n",
       "      <th>17</th>\n",
       "      <td>18</td>\n",
       "      <td>5</td>\n",
       "      <td>80.0</td>\n",
       "      <td>78</td>\n",
       "      <td>90</td>\n",
       "    </tr>\n",
       "    <tr>\n",
       "      <th>18</th>\n",
       "      <td>19</td>\n",
       "      <td>5</td>\n",
       "      <td>89.0</td>\n",
       "      <td>68</td>\n",
       "      <td>87</td>\n",
       "    </tr>\n",
       "    <tr>\n",
       "      <th>19</th>\n",
       "      <td>20</td>\n",
       "      <td>5</td>\n",
       "      <td>78.0</td>\n",
       "      <td>83</td>\n",
       "      <td>58</td>\n",
       "    </tr>\n",
       "  </tbody>\n",
       "</table>\n",
       "</div>"
      ],
      "text/plain": [
       "    id  nclass  math  english  science\n",
       "0    1       1  50.0       98       50\n",
       "1    2       1  60.0       97       60\n",
       "2    3       1  55.0       86       78\n",
       "3    4       1  30.0       98       58\n",
       "4    5       2  25.0       80       65\n",
       "5    6       2  50.0       89       98\n",
       "6    7       2  80.0       90       45\n",
       "7    8       2  55.0       78       25\n",
       "8    9       3  20.0       98       15\n",
       "9   10       3  50.0       98       45\n",
       "10  11       3  65.0       65       65\n",
       "11  12       3  45.0       85       32\n",
       "12  13       4  46.0       98       65\n",
       "13  14       4  48.0       87       12\n",
       "14  15       4  55.0       56       78\n",
       "15  16       4  58.0       98       65\n",
       "16  17       5  65.0       68       98\n",
       "17  18       5  80.0       78       90\n",
       "18  19       5  89.0       68       87\n",
       "19  20       5  78.0       83       58"
      ]
     },
     "execution_count": 38,
     "metadata": {},
     "output_type": "execute_result"
    }
   ],
   "source": [
    "exam['math'] = exam['math'].fillna(55)  # math가 NaN이면 55로 대체\n",
    "exam                                    # 출력"
   ]
  },
  {
   "cell_type": "code",
   "execution_count": 39,
   "id": "f2c27673",
   "metadata": {
    "lines_to_next_cell": 0
   },
   "outputs": [
    {
     "data": {
      "text/plain": [
       "0"
      ]
     },
     "execution_count": 39,
     "metadata": {},
     "output_type": "execute_result"
    }
   ],
   "source": [
    "exam['math'].isna().sum()  # 결측치 빈도 확인"
   ]
  },
  {
   "cell_type": "markdown",
   "id": "994617af",
   "metadata": {},
   "source": [
    "#### 결측치에 해당하는 값(2,7,14 행의 math값)에 55.0이 각각 할당 되었슴을 확인할 수가 있다.  "
   ]
  },
  {
   "cell_type": "markdown",
   "id": "869ff5ae",
   "metadata": {
    "lines_to_next_cell": 0
   },
   "source": [
    "---\n",
    "## 07-2 이상한 데이터를 찾아라! - 이상치 정제하기\n",
    "### 이상치 제거하기 - 존재할 수 없는 값\n",
    "### 일정 범위를 벗어난 값, 예) 과목 점수 : 0<= jumsu 100>="
   ]
  },
  {
   "cell_type": "code",
   "execution_count": 41,
   "id": "2922b591",
   "metadata": {
    "lines_to_next_cell": 0
   },
   "outputs": [
    {
     "data": {
      "text/html": [
       "<div>\n",
       "<style scoped>\n",
       "    .dataframe tbody tr th:only-of-type {\n",
       "        vertical-align: middle;\n",
       "    }\n",
       "\n",
       "    .dataframe tbody tr th {\n",
       "        vertical-align: top;\n",
       "    }\n",
       "\n",
       "    .dataframe thead th {\n",
       "        text-align: right;\n",
       "    }\n",
       "</style>\n",
       "<table border=\"1\" class=\"dataframe\">\n",
       "  <thead>\n",
       "    <tr style=\"text-align: right;\">\n",
       "      <th></th>\n",
       "      <th>sex</th>\n",
       "      <th>score</th>\n",
       "    </tr>\n",
       "  </thead>\n",
       "  <tbody>\n",
       "    <tr>\n",
       "      <th>0</th>\n",
       "      <td>1</td>\n",
       "      <td>5</td>\n",
       "    </tr>\n",
       "    <tr>\n",
       "      <th>1</th>\n",
       "      <td>2</td>\n",
       "      <td>4</td>\n",
       "    </tr>\n",
       "    <tr>\n",
       "      <th>2</th>\n",
       "      <td>1</td>\n",
       "      <td>3</td>\n",
       "    </tr>\n",
       "    <tr>\n",
       "      <th>3</th>\n",
       "      <td>3</td>\n",
       "      <td>4</td>\n",
       "    </tr>\n",
       "    <tr>\n",
       "      <th>4</th>\n",
       "      <td>2</td>\n",
       "      <td>2</td>\n",
       "    </tr>\n",
       "    <tr>\n",
       "      <th>5</th>\n",
       "      <td>1</td>\n",
       "      <td>6</td>\n",
       "    </tr>\n",
       "  </tbody>\n",
       "</table>\n",
       "</div>"
      ],
      "text/plain": [
       "   sex  score\n",
       "0    1      5\n",
       "1    2      4\n",
       "2    1      3\n",
       "3    3      4\n",
       "4    2      2\n",
       "5    1      6"
      ]
     },
     "execution_count": 41,
     "metadata": {},
     "output_type": "execute_result"
    }
   ],
   "source": [
    "# 여기에서는 3이나 6은 이상치값으로 봅니다.\n",
    "\n",
    "df = pd.DataFrame({'sex'   : [1, 2, 1, 3, 2, 1], \n",
    "                   'score' : [5, 4, 3, 4, 2, 6]})\n",
    "df"
   ]
  },
  {
   "cell_type": "markdown",
   "id": "e0661fff",
   "metadata": {
    "lines_to_next_cell": 0
   },
   "source": [
    "#### 이상치 확인하기"
   ]
  },
  {
   "cell_type": "code",
   "execution_count": 42,
   "id": "92b7c91a",
   "metadata": {
    "lines_to_next_cell": 0
   },
   "outputs": [
    {
     "data": {
      "text/plain": [
       "sex\n",
       "1    3\n",
       "2    2\n",
       "3    1\n",
       "Name: count, dtype: int64"
      ]
     },
     "execution_count": 42,
     "metadata": {},
     "output_type": "execute_result"
    }
   ],
   "source": [
    "#빈도표 생성하기\n",
    "df['sex'].value_counts(sort = False).sort_index()"
   ]
  },
  {
   "cell_type": "code",
   "execution_count": 43,
   "id": "9c3d5ca7",
   "metadata": {
    "lines_to_next_cell": 0
   },
   "outputs": [
    {
     "data": {
      "text/plain": [
       "score\n",
       "2    1\n",
       "3    1\n",
       "4    2\n",
       "5    1\n",
       "6    1\n",
       "Name: count, dtype: int64"
      ]
     },
     "execution_count": 43,
     "metadata": {},
     "output_type": "execute_result"
    }
   ],
   "source": [
    "df['score'].value_counts(sort = False).sort_index()"
   ]
  },
  {
   "cell_type": "markdown",
   "id": "b0303daa",
   "metadata": {
    "lines_to_next_cell": 0
   },
   "source": [
    "#### 결측 처리하기"
   ]
  },
  {
   "cell_type": "code",
   "execution_count": 44,
   "id": "a2de1598",
   "metadata": {
    "lines_to_next_cell": 0
   },
   "outputs": [
    {
     "data": {
      "text/html": [
       "<div>\n",
       "<style scoped>\n",
       "    .dataframe tbody tr th:only-of-type {\n",
       "        vertical-align: middle;\n",
       "    }\n",
       "\n",
       "    .dataframe tbody tr th {\n",
       "        vertical-align: top;\n",
       "    }\n",
       "\n",
       "    .dataframe thead th {\n",
       "        text-align: right;\n",
       "    }\n",
       "</style>\n",
       "<table border=\"1\" class=\"dataframe\">\n",
       "  <thead>\n",
       "    <tr style=\"text-align: right;\">\n",
       "      <th></th>\n",
       "      <th>sex</th>\n",
       "      <th>score</th>\n",
       "    </tr>\n",
       "  </thead>\n",
       "  <tbody>\n",
       "    <tr>\n",
       "      <th>0</th>\n",
       "      <td>1.0</td>\n",
       "      <td>5</td>\n",
       "    </tr>\n",
       "    <tr>\n",
       "      <th>1</th>\n",
       "      <td>2.0</td>\n",
       "      <td>4</td>\n",
       "    </tr>\n",
       "    <tr>\n",
       "      <th>2</th>\n",
       "      <td>1.0</td>\n",
       "      <td>3</td>\n",
       "    </tr>\n",
       "    <tr>\n",
       "      <th>3</th>\n",
       "      <td>NaN</td>\n",
       "      <td>4</td>\n",
       "    </tr>\n",
       "    <tr>\n",
       "      <th>4</th>\n",
       "      <td>2.0</td>\n",
       "      <td>2</td>\n",
       "    </tr>\n",
       "    <tr>\n",
       "      <th>5</th>\n",
       "      <td>1.0</td>\n",
       "      <td>6</td>\n",
       "    </tr>\n",
       "  </tbody>\n",
       "</table>\n",
       "</div>"
      ],
      "text/plain": [
       "   sex  score\n",
       "0  1.0      5\n",
       "1  2.0      4\n",
       "2  1.0      3\n",
       "3  NaN      4\n",
       "4  2.0      2\n",
       "5  1.0      6"
      ]
     },
     "execution_count": 44,
     "metadata": {},
     "output_type": "execute_result"
    }
   ],
   "source": [
    "# sex가 3이면 NaN 부여\n",
    "df['sex'] = np.where(df['sex'] == 3, np.nan, df['sex'])\n",
    "df"
   ]
  },
  {
   "cell_type": "code",
   "execution_count": 45,
   "id": "3df550e3",
   "metadata": {
    "lines_to_next_cell": 0
   },
   "outputs": [
    {
     "data": {
      "text/html": [
       "<div>\n",
       "<style scoped>\n",
       "    .dataframe tbody tr th:only-of-type {\n",
       "        vertical-align: middle;\n",
       "    }\n",
       "\n",
       "    .dataframe tbody tr th {\n",
       "        vertical-align: top;\n",
       "    }\n",
       "\n",
       "    .dataframe thead th {\n",
       "        text-align: right;\n",
       "    }\n",
       "</style>\n",
       "<table border=\"1\" class=\"dataframe\">\n",
       "  <thead>\n",
       "    <tr style=\"text-align: right;\">\n",
       "      <th></th>\n",
       "      <th>sex</th>\n",
       "      <th>score</th>\n",
       "    </tr>\n",
       "  </thead>\n",
       "  <tbody>\n",
       "    <tr>\n",
       "      <th>0</th>\n",
       "      <td>1.0</td>\n",
       "      <td>5.0</td>\n",
       "    </tr>\n",
       "    <tr>\n",
       "      <th>1</th>\n",
       "      <td>2.0</td>\n",
       "      <td>4.0</td>\n",
       "    </tr>\n",
       "    <tr>\n",
       "      <th>2</th>\n",
       "      <td>1.0</td>\n",
       "      <td>3.0</td>\n",
       "    </tr>\n",
       "    <tr>\n",
       "      <th>3</th>\n",
       "      <td>NaN</td>\n",
       "      <td>4.0</td>\n",
       "    </tr>\n",
       "    <tr>\n",
       "      <th>4</th>\n",
       "      <td>2.0</td>\n",
       "      <td>2.0</td>\n",
       "    </tr>\n",
       "    <tr>\n",
       "      <th>5</th>\n",
       "      <td>1.0</td>\n",
       "      <td>NaN</td>\n",
       "    </tr>\n",
       "  </tbody>\n",
       "</table>\n",
       "</div>"
      ],
      "text/plain": [
       "   sex  score\n",
       "0  1.0    5.0\n",
       "1  2.0    4.0\n",
       "2  1.0    3.0\n",
       "3  NaN    4.0\n",
       "4  2.0    2.0\n",
       "5  1.0    NaN"
      ]
     },
     "execution_count": 45,
     "metadata": {},
     "output_type": "execute_result"
    }
   ],
   "source": [
    "# score가 5보다 크면 NaN 부여\n",
    "df['score'] = np.where(df['score'] > 5, np.nan, df['score'])\n",
    "df"
   ]
  },
  {
   "cell_type": "code",
   "execution_count": 28,
   "id": "c001b09e-6e6e-4de6-8077-685a026b4b9f",
   "metadata": {
    "lines_to_next_cell": 0
   },
   "outputs": [
    {
     "data": {
      "text/html": [
       "<div>\n",
       "<style scoped>\n",
       "    .dataframe tbody tr th:only-of-type {\n",
       "        vertical-align: middle;\n",
       "    }\n",
       "\n",
       "    .dataframe tbody tr th {\n",
       "        vertical-align: top;\n",
       "    }\n",
       "\n",
       "    .dataframe thead th {\n",
       "        text-align: right;\n",
       "    }\n",
       "</style>\n",
       "<table border=\"1\" class=\"dataframe\">\n",
       "  <thead>\n",
       "    <tr style=\"text-align: right;\">\n",
       "      <th></th>\n",
       "      <th>mean_score</th>\n",
       "    </tr>\n",
       "    <tr>\n",
       "      <th>sex</th>\n",
       "      <th></th>\n",
       "    </tr>\n",
       "  </thead>\n",
       "  <tbody>\n",
       "    <tr>\n",
       "      <th>1.0</th>\n",
       "      <td>4.0</td>\n",
       "    </tr>\n",
       "    <tr>\n",
       "      <th>2.0</th>\n",
       "      <td>3.0</td>\n",
       "    </tr>\n",
       "  </tbody>\n",
       "</table>\n",
       "</div>"
      ],
      "text/plain": [
       "     mean_score\n",
       "sex            \n",
       "1.0         4.0\n",
       "2.0         3.0"
      ]
     },
     "execution_count": 28,
     "metadata": {},
     "output_type": "execute_result"
    }
   ],
   "source": [
    "# sex, score 결측치 제거\n",
    "# sex별 분리\n",
    "# score 평균 구하기\n",
    "df.dropna(subset = ['sex', 'score']) \\\n",
    "       .groupby('sex') \\\n",
    "       .agg(mean_score = ('score', 'mean'))"
   ]
  },
  {
   "cell_type": "markdown",
   "id": "ab0f9c64",
   "metadata": {
    "lines_to_next_cell": 0
   },
   "source": [
    "------------------------------------------------------------------------\n",
    "#### (알아 두면 좋아요) `np.where()`는 문자와 `NaN`을 함께 반환할 수 없습니다."
   ]
  },
  {
   "cell_type": "code",
   "execution_count": 46,
   "id": "3e6ad99f",
   "metadata": {
    "lines_to_next_cell": 0
   },
   "outputs": [
    {
     "data": {
      "text/html": [
       "<div>\n",
       "<style scoped>\n",
       "    .dataframe tbody tr th:only-of-type {\n",
       "        vertical-align: middle;\n",
       "    }\n",
       "\n",
       "    .dataframe tbody tr th {\n",
       "        vertical-align: top;\n",
       "    }\n",
       "\n",
       "    .dataframe thead th {\n",
       "        text-align: right;\n",
       "    }\n",
       "</style>\n",
       "<table border=\"1\" class=\"dataframe\">\n",
       "  <thead>\n",
       "    <tr style=\"text-align: right;\">\n",
       "      <th></th>\n",
       "      <th>x1</th>\n",
       "      <th>x2</th>\n",
       "    </tr>\n",
       "  </thead>\n",
       "  <tbody>\n",
       "    <tr>\n",
       "      <th>0</th>\n",
       "      <td>1</td>\n",
       "      <td>a</td>\n",
       "    </tr>\n",
       "    <tr>\n",
       "      <th>1</th>\n",
       "      <td>1</td>\n",
       "      <td>a</td>\n",
       "    </tr>\n",
       "    <tr>\n",
       "      <th>2</th>\n",
       "      <td>2</td>\n",
       "      <td>nan</td>\n",
       "    </tr>\n",
       "    <tr>\n",
       "      <th>3</th>\n",
       "      <td>2</td>\n",
       "      <td>nan</td>\n",
       "    </tr>\n",
       "  </tbody>\n",
       "</table>\n",
       "</div>"
      ],
      "text/plain": [
       "   x1   x2\n",
       "0   1    a\n",
       "1   1    a\n",
       "2   2  nan\n",
       "3   2  nan"
      ]
     },
     "execution_count": 46,
     "metadata": {},
     "output_type": "execute_result"
    }
   ],
   "source": [
    "df = pd.DataFrame({'x1' : [1, 1, 2, 2]})\n",
    "df['x2'] = np.where(df['x1'] == 1, 'a', np.nan)  # 조건에 맞으면 문자 부여\n",
    "df"
   ]
  },
  {
   "cell_type": "code",
   "execution_count": 48,
   "id": "e8a343ab",
   "metadata": {
    "lines_to_next_cell": 0
   },
   "outputs": [
    {
     "data": {
      "text/html": [
       "<div>\n",
       "<style scoped>\n",
       "    .dataframe tbody tr th:only-of-type {\n",
       "        vertical-align: middle;\n",
       "    }\n",
       "\n",
       "    .dataframe tbody tr th {\n",
       "        vertical-align: top;\n",
       "    }\n",
       "\n",
       "    .dataframe thead th {\n",
       "        text-align: right;\n",
       "    }\n",
       "</style>\n",
       "<table border=\"1\" class=\"dataframe\">\n",
       "  <thead>\n",
       "    <tr style=\"text-align: right;\">\n",
       "      <th></th>\n",
       "      <th>x1</th>\n",
       "      <th>x2</th>\n",
       "    </tr>\n",
       "  </thead>\n",
       "  <tbody>\n",
       "    <tr>\n",
       "      <th>0</th>\n",
       "      <td>False</td>\n",
       "      <td>False</td>\n",
       "    </tr>\n",
       "    <tr>\n",
       "      <th>1</th>\n",
       "      <td>False</td>\n",
       "      <td>False</td>\n",
       "    </tr>\n",
       "    <tr>\n",
       "      <th>2</th>\n",
       "      <td>False</td>\n",
       "      <td>False</td>\n",
       "    </tr>\n",
       "    <tr>\n",
       "      <th>3</th>\n",
       "      <td>False</td>\n",
       "      <td>False</td>\n",
       "    </tr>\n",
       "  </tbody>\n",
       "</table>\n",
       "</div>"
      ],
      "text/plain": [
       "      x1     x2\n",
       "0  False  False\n",
       "1  False  False\n",
       "2  False  False\n",
       "3  False  False"
      ]
     },
     "execution_count": 48,
     "metadata": {},
     "output_type": "execute_result"
    }
   ],
   "source": [
    "df.isna()"
   ]
  },
  {
   "cell_type": "code",
   "execution_count": 51,
   "id": "4e20a474",
   "metadata": {
    "lines_to_next_cell": 0
   },
   "outputs": [
    {
     "data": {
      "text/plain": [
       "0      a\n",
       "1      a\n",
       "2    etc\n",
       "3    etc\n",
       "Name: x2, dtype: object"
      ]
     },
     "execution_count": 51,
     "metadata": {},
     "output_type": "execute_result"
    }
   ],
   "source": [
    "# 결측치로 만들 값에 문자 부여\n",
    "df['x2'] = np.where(df['x1'] == 1, 'a', 'etc')\n",
    "df['x2']"
   ]
  },
  {
   "cell_type": "code",
   "execution_count": 54,
   "id": "8f682a58",
   "metadata": {
    "lines_to_next_cell": 0
   },
   "outputs": [
    {
     "data": {
      "text/plain": [
       "0      a\n",
       "1      a\n",
       "2    NaN\n",
       "3    NaN\n",
       "Name: x2, dtype: object"
      ]
     },
     "execution_count": 54,
     "metadata": {},
     "output_type": "execute_result"
    }
   ],
   "source": [
    "# 'etc'를 NaN으로 바꾸기\n",
    "df['x2'] = df['x2'].replace('etc', np.nan)  \n",
    "df['x2'] "
   ]
  },
  {
   "cell_type": "code",
   "execution_count": 55,
   "id": "4c6e065d",
   "metadata": {
    "lines_to_next_cell": 0
   },
   "outputs": [
    {
     "data": {
      "text/html": [
       "<div>\n",
       "<style scoped>\n",
       "    .dataframe tbody tr th:only-of-type {\n",
       "        vertical-align: middle;\n",
       "    }\n",
       "\n",
       "    .dataframe tbody tr th {\n",
       "        vertical-align: top;\n",
       "    }\n",
       "\n",
       "    .dataframe thead th {\n",
       "        text-align: right;\n",
       "    }\n",
       "</style>\n",
       "<table border=\"1\" class=\"dataframe\">\n",
       "  <thead>\n",
       "    <tr style=\"text-align: right;\">\n",
       "      <th></th>\n",
       "      <th>x1</th>\n",
       "      <th>x2</th>\n",
       "    </tr>\n",
       "  </thead>\n",
       "  <tbody>\n",
       "    <tr>\n",
       "      <th>0</th>\n",
       "      <td>1</td>\n",
       "      <td>a</td>\n",
       "    </tr>\n",
       "    <tr>\n",
       "      <th>1</th>\n",
       "      <td>1</td>\n",
       "      <td>a</td>\n",
       "    </tr>\n",
       "    <tr>\n",
       "      <th>2</th>\n",
       "      <td>2</td>\n",
       "      <td>NaN</td>\n",
       "    </tr>\n",
       "    <tr>\n",
       "      <th>3</th>\n",
       "      <td>2</td>\n",
       "      <td>NaN</td>\n",
       "    </tr>\n",
       "  </tbody>\n",
       "</table>\n",
       "</div>"
      ],
      "text/plain": [
       "   x1   x2\n",
       "0   1    a\n",
       "1   1    a\n",
       "2   2  NaN\n",
       "3   2  NaN"
      ]
     },
     "execution_count": 55,
     "metadata": {},
     "output_type": "execute_result"
    }
   ],
   "source": [
    "df"
   ]
  },
  {
   "cell_type": "code",
   "execution_count": 56,
   "id": "f2205aaa",
   "metadata": {
    "lines_to_next_cell": 0
   },
   "outputs": [
    {
     "data": {
      "text/html": [
       "<div>\n",
       "<style scoped>\n",
       "    .dataframe tbody tr th:only-of-type {\n",
       "        vertical-align: middle;\n",
       "    }\n",
       "\n",
       "    .dataframe tbody tr th {\n",
       "        vertical-align: top;\n",
       "    }\n",
       "\n",
       "    .dataframe thead th {\n",
       "        text-align: right;\n",
       "    }\n",
       "</style>\n",
       "<table border=\"1\" class=\"dataframe\">\n",
       "  <thead>\n",
       "    <tr style=\"text-align: right;\">\n",
       "      <th></th>\n",
       "      <th>x1</th>\n",
       "      <th>x2</th>\n",
       "    </tr>\n",
       "  </thead>\n",
       "  <tbody>\n",
       "    <tr>\n",
       "      <th>0</th>\n",
       "      <td>False</td>\n",
       "      <td>False</td>\n",
       "    </tr>\n",
       "    <tr>\n",
       "      <th>1</th>\n",
       "      <td>False</td>\n",
       "      <td>False</td>\n",
       "    </tr>\n",
       "    <tr>\n",
       "      <th>2</th>\n",
       "      <td>False</td>\n",
       "      <td>True</td>\n",
       "    </tr>\n",
       "    <tr>\n",
       "      <th>3</th>\n",
       "      <td>False</td>\n",
       "      <td>True</td>\n",
       "    </tr>\n",
       "  </tbody>\n",
       "</table>\n",
       "</div>"
      ],
      "text/plain": [
       "      x1     x2\n",
       "0  False  False\n",
       "1  False  False\n",
       "2  False   True\n",
       "3  False   True"
      ]
     },
     "execution_count": 56,
     "metadata": {},
     "output_type": "execute_result"
    }
   ],
   "source": [
    "df.isna()"
   ]
  },
  {
   "cell_type": "markdown",
   "id": "358fd945",
   "metadata": {
    "lines_to_next_cell": 0
   },
   "source": [
    "### 이상치 제거하기 - 극단적인 값\n",
    "\n",
    "#### 상자 그림으로 극단치 기준 정하기\n",
    "\n",
    "##### 1. 상자 그림 살펴보기"
   ]
  },
  {
   "cell_type": "code",
   "execution_count": 57,
   "id": "73eff97e",
   "metadata": {
    "eval": false,
    "lines_to_next_cell": 0
   },
   "outputs": [
    {
     "data": {
      "text/plain": [
       "<Axes: ylabel='hwy'>"
      ]
     },
     "execution_count": 57,
     "metadata": {},
     "output_type": "execute_result"
    },
    {
     "data": {
      "image/png": "[encoded data removed]",
      "text/plain": [
       "<Figure size 640x480 with 1 Axes>"
      ]
     },
     "metadata": {},
     "output_type": "display_data"
    }
   ],
   "source": [
    "# mpg 샘플을 가져온다.  \n",
    "mpg = pd.read_csv('../data/mpg.csv')\n",
    "\n",
    "import seaborn as sns\n",
    "sns.boxplot(data = mpg, y = 'hwy')"
   ]
  },
  {
   "cell_type": "markdown",
   "id": "c01c685e-3e03-43cd-8774-e6e57442da6c",
   "metadata": {
    "lines_to_next_cell": 0
   },
   "source": [
    "##### 2.극단치 기준값 구하기\n",
    "\n",
    "**(1) 1사분위수, 3사분위수 구하기**"
   ]
  },
  {
   "cell_type": "code",
   "execution_count": 58,
   "id": "634d597a",
   "metadata": {
    "lines_to_next_cell": 0
   },
   "outputs": [
    {
     "data": {
      "text/plain": [
       "18.0"
      ]
     },
     "execution_count": 58,
     "metadata": {},
     "output_type": "execute_result"
    }
   ],
   "source": [
    "pct25 = mpg['hwy'].quantile(.25)      # 1/4분위수(1/4 1쿼터 값) \n",
    "pct25"
   ]
  },
  {
   "cell_type": "code",
   "execution_count": 59,
   "id": "91b1bead",
   "metadata": {
    "lines_to_next_cell": 0
   },
   "outputs": [
    {
     "data": {
      "text/plain": [
       "27.0"
      ]
     },
     "execution_count": 59,
     "metadata": {},
     "output_type": "execute_result"
    }
   ],
   "source": [
    "pct75 = mpg['hwy'].quantile(.75)      # 3/4분위수(3/4 3쿼터값)\n",
    "pct75"
   ]
  },
  {
   "cell_type": "markdown",
   "id": "f68e7673",
   "metadata": {
    "lines_to_next_cell": 0
   },
   "source": [
    "**(2) IQR 구하기**"
   ]
  },
  {
   "cell_type": "code",
   "execution_count": 60,
   "id": "0e5dbb68",
   "metadata": {
    "lines_to_next_cell": 0
   },
   "outputs": [
    {
     "data": {
      "text/plain": [
       "9.0"
      ]
     },
     "execution_count": 60,
     "metadata": {},
     "output_type": "execute_result"
    }
   ],
   "source": [
    "iqr = pct75 - pct25       # 3/4분위수 - 1/4분위수 : 실제 박스가 있는 부분만 , median\n",
    "iqr"
   ]
  },
  {
   "cell_type": "markdown",
   "id": "e9c8adc6",
   "metadata": {
    "lines_to_next_cell": 0
   },
   "source": [
    "**(3) 하한, 상한 구하기**"
   ]
  },
  {
   "cell_type": "code",
   "execution_count": 61,
   "id": "b788b533",
   "metadata": {
    "lines_to_next_cell": 0
   },
   "outputs": [
    {
     "data": {
      "text/plain": [
       "4.5"
      ]
     },
     "execution_count": 61,
     "metadata": {},
     "output_type": "execute_result"
    }
   ],
   "source": [
    "pct25 - 1.5 * iqr  # 하한"
   ]
  },
  {
   "cell_type": "code",
   "execution_count": 62,
   "id": "1fb15a44",
   "metadata": {
    "lines_to_next_cell": 0
   },
   "outputs": [
    {
     "data": {
      "text/plain": [
       "40.5"
      ]
     },
     "execution_count": 62,
     "metadata": {},
     "output_type": "execute_result"
    }
   ],
   "source": [
    "pct75 + 1.5 * iqr  # 상한"
   ]
  },
  {
   "cell_type": "markdown",
   "id": "8e777555",
   "metadata": {
    "lines_to_next_cell": 0
   },
   "source": [
    "##### 3. 극단치를 결측 처리하기"
   ]
  },
  {
   "cell_type": "code",
   "execution_count": 66,
   "id": "c04bef4e",
   "metadata": {},
   "outputs": [],
   "source": [
    "pd.set_option('display.max_rows', None)     # 모든 행 출력하도록 설정"
   ]
  },
  {
   "cell_type": "code",
   "execution_count": 67,
   "id": "e9523bb1",
   "metadata": {
    "lines_to_next_cell": 0
   },
   "outputs": [
    {
     "name": "stdout",
     "output_type": "stream",
     "text": [
      "0      29.0\n",
      "1      29.0\n",
      "2      31.0\n",
      "3      30.0\n",
      "4      26.0\n",
      "5      26.0\n",
      "6      27.0\n",
      "7      26.0\n",
      "8      25.0\n",
      "9      28.0\n",
      "10     27.0\n",
      "11     25.0\n",
      "12     25.0\n",
      "13     25.0\n",
      "14     25.0\n",
      "15     24.0\n",
      "16     25.0\n",
      "17     23.0\n",
      "18     20.0\n",
      "19     15.0\n",
      "20     20.0\n",
      "21     17.0\n",
      "22     17.0\n",
      "23     26.0\n",
      "24     23.0\n",
      "25     26.0\n",
      "26     25.0\n",
      "27     24.0\n",
      "28     19.0\n",
      "29     14.0\n",
      "30     15.0\n",
      "31     17.0\n",
      "32     27.0\n",
      "33     30.0\n",
      "34     26.0\n",
      "35     29.0\n",
      "36     26.0\n",
      "37     24.0\n",
      "38     24.0\n",
      "39     22.0\n",
      "40     22.0\n",
      "41     24.0\n",
      "42     24.0\n",
      "43     17.0\n",
      "44     22.0\n",
      "45     21.0\n",
      "46     23.0\n",
      "47     23.0\n",
      "48     19.0\n",
      "49     18.0\n",
      "50     17.0\n",
      "51     17.0\n",
      "52     19.0\n",
      "53     19.0\n",
      "54     12.0\n",
      "55     17.0\n",
      "56     15.0\n",
      "57     17.0\n",
      "58     17.0\n",
      "59     12.0\n",
      "60     17.0\n",
      "61     16.0\n",
      "62     18.0\n",
      "63     15.0\n",
      "64     16.0\n",
      "65     12.0\n",
      "66     17.0\n",
      "67     17.0\n",
      "68     16.0\n",
      "69     12.0\n",
      "70     15.0\n",
      "71     16.0\n",
      "72     17.0\n",
      "73     15.0\n",
      "74     17.0\n",
      "75     17.0\n",
      "76     18.0\n",
      "77     17.0\n",
      "78     19.0\n",
      "79     17.0\n",
      "80     19.0\n",
      "81     19.0\n",
      "82     17.0\n",
      "83     17.0\n",
      "84     17.0\n",
      "85     16.0\n",
      "86     16.0\n",
      "87     17.0\n",
      "88     15.0\n",
      "89     17.0\n",
      "90     26.0\n",
      "91     25.0\n",
      "92     26.0\n",
      "93     24.0\n",
      "94     21.0\n",
      "95     22.0\n",
      "96     23.0\n",
      "97     22.0\n",
      "98     20.0\n",
      "99     33.0\n",
      "100    32.0\n",
      "101    32.0\n",
      "102    29.0\n",
      "103    32.0\n",
      "104    34.0\n",
      "105    36.0\n",
      "106    36.0\n",
      "107    29.0\n",
      "108    26.0\n",
      "109    27.0\n",
      "110    30.0\n",
      "111    31.0\n",
      "112    26.0\n",
      "113    26.0\n",
      "114    28.0\n",
      "115    26.0\n",
      "116    29.0\n",
      "117    28.0\n",
      "118    27.0\n",
      "119    24.0\n",
      "120    24.0\n",
      "121    24.0\n",
      "122    22.0\n",
      "123    19.0\n",
      "124    20.0\n",
      "125    17.0\n",
      "126    12.0\n",
      "127    19.0\n",
      "128    18.0\n",
      "129    14.0\n",
      "130    15.0\n",
      "131    18.0\n",
      "132    18.0\n",
      "133    15.0\n",
      "134    17.0\n",
      "135    16.0\n",
      "136    18.0\n",
      "137    17.0\n",
      "138    19.0\n",
      "139    19.0\n",
      "140    17.0\n",
      "141    29.0\n",
      "142    27.0\n",
      "143    31.0\n",
      "144    32.0\n",
      "145    27.0\n",
      "146    26.0\n",
      "147    26.0\n",
      "148    25.0\n",
      "149    25.0\n",
      "150    17.0\n",
      "151    17.0\n",
      "152    20.0\n",
      "153    18.0\n",
      "154    26.0\n",
      "155    26.0\n",
      "156    27.0\n",
      "157    28.0\n",
      "158    25.0\n",
      "159    25.0\n",
      "160    24.0\n",
      "161    27.0\n",
      "162    25.0\n",
      "163    26.0\n",
      "164    23.0\n",
      "165    26.0\n",
      "166    26.0\n",
      "167    26.0\n",
      "168    26.0\n",
      "169    25.0\n",
      "170    27.0\n",
      "171    25.0\n",
      "172    27.0\n",
      "173    20.0\n",
      "174    20.0\n",
      "175    19.0\n",
      "176    17.0\n",
      "177    20.0\n",
      "178    17.0\n",
      "179    29.0\n",
      "180    27.0\n",
      "181    31.0\n",
      "182    31.0\n",
      "183    26.0\n",
      "184    26.0\n",
      "185    28.0\n",
      "186    27.0\n",
      "187    29.0\n",
      "188    31.0\n",
      "189    31.0\n",
      "190    26.0\n",
      "191    26.0\n",
      "192    27.0\n",
      "193    30.0\n",
      "194    33.0\n",
      "195    35.0\n",
      "196    37.0\n",
      "197    35.0\n",
      "198    15.0\n",
      "199    18.0\n",
      "200    20.0\n",
      "201    20.0\n",
      "202    22.0\n",
      "203    17.0\n",
      "204    19.0\n",
      "205    18.0\n",
      "206    20.0\n",
      "207    29.0\n",
      "208    26.0\n",
      "209    29.0\n",
      "210    29.0\n",
      "211    24.0\n",
      "212     NaN\n",
      "213    29.0\n",
      "214    26.0\n",
      "215    29.0\n",
      "216    29.0\n",
      "217    29.0\n",
      "218    29.0\n",
      "219    23.0\n",
      "220    24.0\n",
      "221     NaN\n",
      "222     NaN\n",
      "223    29.0\n",
      "224    26.0\n",
      "225    28.0\n",
      "226    29.0\n",
      "227    29.0\n",
      "228    29.0\n",
      "229    28.0\n",
      "230    29.0\n",
      "231    26.0\n",
      "232    26.0\n",
      "233    26.0\n",
      "Name: hwy, dtype: float64\n"
     ]
    },
    {
     "data": {
      "text/plain": [
       "3"
      ]
     },
     "execution_count": 67,
     "metadata": {},
     "output_type": "execute_result"
    }
   ],
   "source": [
    "# 4.5 ~ 40.5 벗어나면 NaN 부여\n",
    "mpg['hwy'] = np.where((mpg['hwy'] < 4.5) | (mpg['hwy'] > 40.5), np.nan, mpg['hwy'])\n",
    "print(mpg['hwy'])\n",
    "\n",
    "# 결측치 빈도 확인\n",
    "mpg['hwy'].isna().sum()"
   ]
  },
  {
   "cell_type": "code",
   "execution_count": 68,
   "id": "f48932fc",
   "metadata": {},
   "outputs": [],
   "source": [
    "pd.reset_option('display.max_rows')     # 행 출력 제한 되돌리기"
   ]
  },
  {
   "cell_type": "markdown",
   "id": "9933aa80",
   "metadata": {
    "lines_to_next_cell": 0
   },
   "source": [
    "##### 4. 결측치 제거하고 분석하기"
   ]
  },
  {
   "cell_type": "code",
   "execution_count": 69,
   "id": "c48cf10c-d289-46b0-9515-d4b4f6b410ac",
   "metadata": {
    "lines_to_next_cell": 0
   },
   "outputs": [
    {
     "data": {
      "text/html": [
       "<div>\n",
       "<style scoped>\n",
       "    .dataframe tbody tr th:only-of-type {\n",
       "        vertical-align: middle;\n",
       "    }\n",
       "\n",
       "    .dataframe tbody tr th {\n",
       "        vertical-align: top;\n",
       "    }\n",
       "\n",
       "    .dataframe thead th {\n",
       "        text-align: right;\n",
       "    }\n",
       "</style>\n",
       "<table border=\"1\" class=\"dataframe\">\n",
       "  <thead>\n",
       "    <tr style=\"text-align: right;\">\n",
       "      <th></th>\n",
       "      <th>mean_hwy</th>\n",
       "    </tr>\n",
       "    <tr>\n",
       "      <th>drv</th>\n",
       "      <th></th>\n",
       "    </tr>\n",
       "  </thead>\n",
       "  <tbody>\n",
       "    <tr>\n",
       "      <th>4</th>\n",
       "      <td>19.174757</td>\n",
       "    </tr>\n",
       "    <tr>\n",
       "      <th>f</th>\n",
       "      <td>27.728155</td>\n",
       "    </tr>\n",
       "    <tr>\n",
       "      <th>r</th>\n",
       "      <td>21.000000</td>\n",
       "    </tr>\n",
       "  </tbody>\n",
       "</table>\n",
       "</div>"
      ],
      "text/plain": [
       "      mean_hwy\n",
       "drv           \n",
       "4    19.174757\n",
       "f    27.728155\n",
       "r    21.000000"
      ]
     },
     "execution_count": 69,
     "metadata": {},
     "output_type": "execute_result"
    }
   ],
   "source": [
    "# hwy 결측치 제거\n",
    "# drv별 분리\n",
    "# hwy 평균 구하기\n",
    "mpg.dropna(subset = ['hwy']) \\\n",
    "   .groupby('drv') \\\n",
    "   .agg(mean_hwy = ('hwy', 'mean'))"
   ]
  },
  {
   "cell_type": "markdown",
   "id": "bd6752a0",
   "metadata": {
    "lines_to_next_cell": 0
   },
   "source": [
    "### 정리하기"
   ]
  },
  {
   "cell_type": "code",
   "execution_count": 43,
   "id": "73427cb4",
   "metadata": {
    "eval": false,
    "tags": [
     "raises-exception"
    ]
   },
   "outputs": [
    {
     "name": "stdout",
     "output_type": "stream",
     "text": [
      "1. DataFrame df 의 상위 6행은 ?  \n",
      "   sex  score\n",
      "0    1      5\n",
      "1    2      4\n",
      "2    1      3\n",
      "3    3      4\n",
      "4    2      2\n",
      "\n",
      "\n",
      "2. df중 score,sex컬럼의 결측치를 제거한 df_nomiss중 상위 6행은 ? \n",
      "   sex  score\n",
      "0    1      5\n",
      "1    2      4\n",
      "2    1      3\n",
      "3    3      4\n",
      "4    2      2\n",
      "\n",
      "\n",
      "3. mpg중 고속도로연비(hwy)의 결측치를 제거(4.5 < hwy < 40.5에 속한 값)한 mpg_new의 값은 ?  \n",
      "   manufacturer               model  displ  year  cyl       trans  cty   hwy\n",
      "0          audi                  a4    1.8  1999    4    auto(l5)   18  29.0\n",
      "1          audi                  a4    1.8  1999    4  manual(m5)   21  29.0\n",
      "2          audi                  a4    2.0  2008    4  manual(m6)   20  31.0\n",
      "3          audi                  a4    2.0  2008    4    auto(av)   21  30.0\n",
      "4          audi                  a4    2.8  1999    6    auto(l5)   16  26.0\n",
      "5          audi                  a4    2.8  1999    6  manual(m5)   18  26.0\n",
      "6          audi                  a4    3.1  2008    6    auto(av)   18  27.0\n",
      "7          audi          a4 quattro    1.8  1999    4  manual(m5)   18  26.0\n",
      "8          audi          a4 quattro    1.8  1999    4    auto(l5)   16  25.0\n",
      "9          audi          a4 quattro    2.0  2008    4  manual(m6)   20  28.0\n",
      "10         audi          a4 quattro    2.0  2008    4    auto(s6)   19  27.0\n",
      "11         audi          a4 quattro    2.8  1999    6    auto(l5)   15  25.0\n",
      "12         audi          a4 quattro    2.8  1999    6  manual(m5)   17  25.0\n",
      "13         audi          a4 quattro    3.1  2008    6    auto(s6)   17  25.0\n",
      "14         audi          a4 quattro    3.1  2008    6  manual(m6)   15  25.0\n",
      "15         audi          a6 quattro    2.8  1999    6    auto(l5)   15  24.0\n",
      "16         audi          a6 quattro    3.1  2008    6    auto(s6)   17  25.0\n",
      "17         audi          a6 quattro    4.2  2008    8    auto(s6)   16  23.0\n",
      "18    chevrolet  c1500 suburban 2wd    5.3  2008    8    auto(l4)   14  20.0\n",
      "19    chevrolet  c1500 suburban 2wd    5.3  2008    8    auto(l4)   11  15.0\n",
      "20    chevrolet  c1500 suburban 2wd    5.3  2008    8    auto(l4)   14  20.0\n",
      "21    chevrolet  c1500 suburban 2wd    5.7  1999    8    auto(l4)   13  17.0\n",
      "22    chevrolet  c1500 suburban 2wd    6.0  2008    8    auto(l4)   12  17.0\n",
      "23    chevrolet            corvette    5.7  1999    8  manual(m6)   16  26.0\n",
      "24    chevrolet            corvette    5.7  1999    8    auto(l4)   15  23.0\n",
      "25    chevrolet            corvette    6.2  2008    8  manual(m6)   16  26.0\n",
      "26    chevrolet            corvette    6.2  2008    8    auto(s6)   15  25.0\n",
      "27    chevrolet            corvette    7.0  2008    8  manual(m6)   15  24.0\n",
      "28    chevrolet     k1500 tahoe 4wd    5.3  2008    8    auto(l4)   14  19.0\n",
      "29    chevrolet     k1500 tahoe 4wd    5.3  2008    8    auto(l4)   11  14.0\n"
     ]
    }
   ],
   "source": [
    "## 원시 데이터 불러오기  \n",
    "df = pd.DataFrame({'sex'   : [1, 2, 1, 3, 2, 1], \n",
    "                   'score' : [5, 4, 3, 4, 2, 6]})\n",
    "\n",
    "print('1. DataFrame df 의 상위 6행은 ?  ')\n",
    "print(df.head())\n",
    "print(); print()\n",
    "\n",
    "## 1. 결측치 정제하기\n",
    "pd.isna(df).sum()                                 # 결측치 확인 \n",
    "\n",
    "df_nomiss = df.dropna(subset = ['score'])         # 결측치 제거\n",
    "df_nomiss = df.dropna(subset = ['score', 'sex'])  # 여러 변수 동시에 결측치 제거\n",
    "\n",
    "print('2. df중 score,sex컬럼의 결측치를 제거한 df_nomiss중 상위 6행은 ? ')\n",
    "print(df_nomiss.head())\n",
    "print(); print()\n",
    "\n",
    "## 2. 이상치 정제하기\n",
    "# 이상치 확인\n",
    "df['sex'].value_counts(sort = False)\n",
    "\n",
    "# 이상치 결측 처리\n",
    "df['sex'] = np.where(df['sex'] == 3, np.nan, df['sex'])\n",
    "\n",
    "# 상자 그림으로 극단치 기준값 찾기\n",
    "pct25 = mpg['hwy'].quantile(.25)  # 1사분위수\n",
    "pct75 = mpg['hwy'].quantile(.75)  # 3사분위수\n",
    "\n",
    "iqr = pct75 - pct25               # IQR\n",
    "pct25 - 1.5 * iqr                 # 하한\n",
    "pct75 + 1.5 * iqr                 # 상한\n",
    "\n",
    "# 극단치 결측 처리\n",
    "mpg['hwy'] = np.where((mpg['hwy'] < 4.5) | (mpg['hwy'] > 40.5), np.nan, mpg['hwy']) \n",
    "\n",
    "mpg_columns = [\"manufacturer\",\"model\",\"displ\",\"year\",\"cyl\",\"trans\",\"cty\",\"hwy\"]\n",
    "mpg_new = mpg[mpg_columns]\n",
    "\n",
    "print('3. mpg중 고속도로연비(hwy)의 결측치를 제거(4.5 < hwy < 40.5에 속한 값)한 mpg_new의 값은 ?  ')\n",
    "print(mpg_new.head(30))"
   ]
  },
  {
   "cell_type": "markdown",
   "id": "7ee28610",
   "metadata": {},
   "source": [
    "#### mpg관련하여 참고할 문서 \n",
    "- 아래 문서는 mpg관련하여 테스트하고 pandas에 관한 요약사항을 담고 있슴  \n",
    "- https://velog.io/@ohk9134/%ED%8C%8C%EC%9D%B4%EC%8D%AC-EDA-pandas-%EA%B8%B0%EC%B4%88%EC%99%80-data-%EC%9A%94%EC%95%BD "
   ]
  },
  {
   "cell_type": "code",
   "execution_count": 70,
   "id": "ece547aa",
   "metadata": {},
   "outputs": [
    {
     "ename": "SyntaxError",
     "evalue": "invalid syntax (1975118858.py, line 3)",
     "output_type": "error",
     "traceback": [
      "\u001b[1;36m  Cell \u001b[1;32mIn[70], line 3\u001b[1;36m\u001b[0m\n\u001b[1;33m    우선 mpg 데이터를 불러와 일부러 이상치를 만들겠습니다.\u001b[0m\n\u001b[1;37m       ^\u001b[0m\n\u001b[1;31mSyntaxError\u001b[0m\u001b[1;31m:\u001b[0m invalid syntax\n"
     ]
    }
   ],
   "source": [
    "#이상치가 들어 있는 mpg 데이터를 이용해 분석 문제를 해결해 보세요.\n",
    "\n",
    "우선 mpg 데이터를 불러와 일부러 이상치를 만들겠습니다.\n",
    "drv(구동 방식) 변수의 값은 4(사륜구동), f(전륜구동), r(후륜구동) 세 종류입니다. \n",
    "몇 개의 행에 존재할 수 없는 값 k를 할당하겠습니다. \n",
    "cty(도시 연비) 변수도 몇 개의 행에 극단적으로 크거나 작은 값을 할당하겠습니다.\n",
    "\n",
    "mpg = pd.read_csv('mpg.csv')                         # mpg 데이터 불러오기\n",
    "mpg.loc[[9, 13, 57, 92], 'drv'] = 'k'                # drv 이상치 할당\n",
    "mpg.loc[[28, 42, 128, 202], 'cty'] = [3, 4, 39, 42]  # cty 이상치 할당\n",
    "\n",
    "구동 방식별로 도시 연비가 어떻게 다른지 알아보려고 합니다. 분석을 하기 전에 우선 두 변수에\n",
    "이상치가 있는지 확인하려고 합니다.\n",
    "\n",
    "Q1. drv에 이상치가 있는지 확인하세요. 이상치를 결측 처리한 다음 이상치가 사라졌는지\n",
    "       확인하세요. 결측 처리를 할 때는 df.isin()을 활용하세요.\n",
    "\n",
    "Q2. 상자 그림을 이용해 cty에 이상치가 있는지 확인하세요. 상자 그림 기준으로 정상 범위를 벗어난\n",
    "       값을 결측 처리한 다음 다시 상자 그림을 만들어 이상치가 사라졌는지 확인하세요\n",
    "\n",
    "Q3. 두 변수의 이상치를 결측 처리했으니 이제 분석할 차례입니다. 이상치를 제거한 다음 drv별로\n",
    "        cty 평균이 어떻게 다른지 알아보세요. 하나의 pandas 구문으로 만들어야 합니다.\n",
    "    "
   ]
  },
  {
   "cell_type": "code",
   "execution_count": 73,
   "id": "43eae1c1",
   "metadata": {},
   "outputs": [
    {
     "name": "stdout",
     "output_type": "stream",
     "text": [
      "0      f\n",
      "1      f\n",
      "2      f\n",
      "3      f\n",
      "4      f\n",
      "      ..\n",
      "229    f\n",
      "230    f\n",
      "231    f\n",
      "232    f\n",
      "233    f\n",
      "Name: drv, Length: 234, dtype: object\n"
     ]
    },
    {
     "data": {
      "text/plain": [
       "drv\n",
       "4    103\n",
       "f    106\n",
       "r     25\n",
       "Name: count, dtype: int64"
      ]
     },
     "execution_count": 73,
     "metadata": {},
     "output_type": "execute_result"
    }
   ],
   "source": [
    "#Q1. drv에 이상치가 있는지 확인하세요. 이상치를 결측 처리한 다음 이상치가 사라졌는지\n",
    "#       확인하세요. 결측 처리를 할 때는 df.isin()을 활용하세요.\n",
    "\n",
    "# drv가 4, f, r이면 기존 값 유지, 그 외 NaN 부여\n",
    "mpg['drv'] = np.where(mpg['drv'].isin(['4', 'f', 'r']), mpg['drv'], np.nan)\n",
    "print(mpg['drv'] )\n",
    "\n",
    "# 이상치 확인\n",
    "mpg['drv'].value_counts().sort_index()    \n",
    "    "
   ]
  },
  {
   "cell_type": "code",
   "execution_count": 74,
   "id": "71454cd6",
   "metadata": {},
   "outputs": [
    {
     "data": {
      "text/plain": [
       "<Axes: ylabel='cty'>"
      ]
     },
     "execution_count": 74,
     "metadata": {},
     "output_type": "execute_result"
    },
    {
     "data": {
      "image/png": "[encoded data removed]",
      "text/plain": [
       "<Figure size 640x480 with 1 Axes>"
      ]
     },
     "metadata": {},
     "output_type": "display_data"
    }
   ],
   "source": [
    "#Q2. 상자 그림을 이용해 cty에 이상치가 있는지 확인하세요. 상자 그림 기준으로 정상 범위를 벗어난\n",
    "#값을 결측 처리한 다음 다시 상자 그림을 만들어 이상치가 사라졌는지 확인하세요.\n",
    "# 상자 그림 만들기\n",
    "sns.boxplot(data = mpg, y = 'cty')\n"
   ]
  },
  {
   "cell_type": "code",
   "execution_count": 82,
   "id": "22b3ae7c",
   "metadata": {},
   "outputs": [
    {
     "name": "stdout",
     "output_type": "stream",
     "text": [
      "IQR value :  5.0\n",
      "6.5\n",
      "26.5\n"
     ]
    }
   ],
   "source": [
    "pct25 = mpg['cty'].quantile(.25)  # 1사분위수\n",
    "pct75 = mpg['cty'].quantile(.75)  # 3사분위수\n",
    "iqr = pct75 - pct25               # IQR\n",
    "print('IQR value : ', iqr)\n",
    "\n",
    "x = pct25 - 1.5 * iqr  # 하한\n",
    "print(x)\n",
    "\n",
    "y = pct75 + 1.5 * iqr  # 상한\n",
    "print(y)"
   ]
  },
  {
   "cell_type": "code",
   "execution_count": 83,
   "id": "7bae765d",
   "metadata": {},
   "outputs": [
    {
     "data": {
      "text/plain": [
       "<Axes: ylabel='cty'>"
      ]
     },
     "execution_count": 83,
     "metadata": {},
     "output_type": "execute_result"
    },
    {
     "data": {
      "image/png": "[encoded data removed]",
      "text/plain": [
       "<Figure size 640x480 with 1 Axes>"
      ]
     },
     "metadata": {},
     "output_type": "display_data"
    }
   ],
   "source": [
    "# 6.5 ~ 26.5 벗어나면 NaN 부여\n",
    "mpg['cty'] = np.where((mpg['cty'] < 6.5) | (mpg['cty'] > 26.5), np.nan, mpg['cty'])\n",
    "\n",
    "# 상자 그림 만들기\n",
    "sns.boxplot(data = mpg, y = 'cty')"
   ]
  },
  {
   "cell_type": "code",
   "execution_count": 80,
   "id": "0a9b903e",
   "metadata": {},
   "outputs": [
    {
     "data": {
      "text/html": [
       "<div>\n",
       "<style scoped>\n",
       "    .dataframe tbody tr th:only-of-type {\n",
       "        vertical-align: middle;\n",
       "    }\n",
       "\n",
       "    .dataframe tbody tr th {\n",
       "        vertical-align: top;\n",
       "    }\n",
       "\n",
       "    .dataframe thead th {\n",
       "        text-align: right;\n",
       "    }\n",
       "</style>\n",
       "<table border=\"1\" class=\"dataframe\">\n",
       "  <thead>\n",
       "    <tr style=\"text-align: right;\">\n",
       "      <th></th>\n",
       "      <th>mean_cty</th>\n",
       "    </tr>\n",
       "    <tr>\n",
       "      <th>drv</th>\n",
       "      <th></th>\n",
       "    </tr>\n",
       "  </thead>\n",
       "  <tbody>\n",
       "    <tr>\n",
       "      <th>4</th>\n",
       "      <td>14.330097</td>\n",
       "    </tr>\n",
       "    <tr>\n",
       "      <th>f</th>\n",
       "      <td>19.445545</td>\n",
       "    </tr>\n",
       "    <tr>\n",
       "      <th>r</th>\n",
       "      <td>14.080000</td>\n",
       "    </tr>\n",
       "  </tbody>\n",
       "</table>\n",
       "</div>"
      ],
      "text/plain": [
       "      mean_cty\n",
       "drv           \n",
       "4    14.330097\n",
       "f    19.445545\n",
       "r    14.080000"
      ]
     },
     "execution_count": 80,
     "metadata": {},
     "output_type": "execute_result"
    }
   ],
   "source": [
    "#Q3. 두 변수의 이상치를 결측 처리했으니 이제 분석할 차례입니다. 이상치를 제거한 다음 drv별로\n",
    "#        cty 평균이 어떻게 다른지 알아보세요. 하나의 pandas 구문으로 만들어야 합니다.\n",
    "\n",
    "mpg.dropna(subset = ['drv', 'cty']) \\\n",
    "   .groupby('drv') \\\n",
    "   .agg(mean_cty = ('cty', 'mean'))\n"
   ]
  }
 ],
 "metadata": {
  "jupytext": {
   "cell_metadata_filter": "eval,name,tags,echo,-all",
   "notebook_metadata_filter": "-all"
  },
  "kernelspec": {
   "display_name": "Python 3 (ipykernel)",
   "language": "python",
   "name": "python3"
  },
  "language_info": {
   "codemirror_mode": {
    "name": "ipython",
    "version": 3
   },
   "file_extension": ".py",
   "mimetype": "text/x-python",
   "name": "python",
   "nbconvert_exporter": "python",
   "pygments_lexer": "ipython3",
   "version": "3.11.5"
  },
  "toc-autonumbering": false,
  "toc-showcode": false,
  "toc-showmarkdowntxt": false
 },
 "nbformat": 4,
 "nbformat_minor": 5
}
